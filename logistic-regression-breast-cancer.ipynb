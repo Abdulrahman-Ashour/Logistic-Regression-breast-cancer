{
 "cells": [
  {
   "cell_type": "markdown",
   "id": "858f9edf",
   "metadata": {
    "papermill": {
     "duration": 0.006826,
     "end_time": "2022-07-29T21:59:47.927671",
     "exception": false,
     "start_time": "2022-07-29T21:59:47.920845",
     "status": "completed"
    },
    "tags": []
   },
   "source": [
    "# Importing Libraries"
   ]
  },
  {
   "cell_type": "code",
   "execution_count": 1,
   "id": "58af5fd9",
   "metadata": {
    "_cell_guid": "b1076dfc-b9ad-4769-8c92-a6c4dae69d19",
    "_uuid": "8f2839f25d086af736a60e9eeb907d3b93b6e0e5",
    "execution": {
     "iopub.execute_input": "2022-07-29T21:59:47.941868Z",
     "iopub.status.busy": "2022-07-29T21:59:47.941121Z",
     "iopub.status.idle": "2022-07-29T21:59:49.415324Z",
     "shell.execute_reply": "2022-07-29T21:59:49.413846Z"
    },
    "papermill": {
     "duration": 1.485125,
     "end_time": "2022-07-29T21:59:49.418674",
     "exception": false,
     "start_time": "2022-07-29T21:59:47.933549",
     "status": "completed"
    },
    "tags": []
   },
   "outputs": [],
   "source": [
    "from sklearn.datasets import load_breast_cancer\n",
    "from sklearn.linear_model import LogisticRegression\n",
    "from sklearn.model_selection import train_test_split\n",
    "import matplotlib.pyplot as plt"
   ]
  },
  {
   "cell_type": "markdown",
   "id": "15322443",
   "metadata": {
    "papermill": {
     "duration": 0.006242,
     "end_time": "2022-07-29T21:59:49.431115",
     "exception": false,
     "start_time": "2022-07-29T21:59:49.424873",
     "status": "completed"
    },
    "tags": []
   },
   "source": [
    "# Loading Data"
   ]
  },
  {
   "cell_type": "code",
   "execution_count": 2,
   "id": "88b9677c",
   "metadata": {
    "execution": {
     "iopub.execute_input": "2022-07-29T21:59:49.445328Z",
     "iopub.status.busy": "2022-07-29T21:59:49.444869Z",
     "iopub.status.idle": "2022-07-29T21:59:49.468503Z",
     "shell.execute_reply": "2022-07-29T21:59:49.467192Z"
    },
    "papermill": {
     "duration": 0.034636,
     "end_time": "2022-07-29T21:59:49.471685",
     "exception": false,
     "start_time": "2022-07-29T21:59:49.437049",
     "status": "completed"
    },
    "tags": []
   },
   "outputs": [],
   "source": [
    "cancer_df= load_breast_cancer()"
   ]
  },
  {
   "cell_type": "markdown",
   "id": "dacb2d67",
   "metadata": {
    "papermill": {
     "duration": 0.005416,
     "end_time": "2022-07-29T21:59:49.483123",
     "exception": false,
     "start_time": "2022-07-29T21:59:49.477707",
     "status": "completed"
    },
    "tags": []
   },
   "source": [
    "# Logistic Regression Model Training"
   ]
  },
  {
   "cell_type": "code",
   "execution_count": 3,
   "id": "6bafebba",
   "metadata": {
    "execution": {
     "iopub.execute_input": "2022-07-29T21:59:49.496499Z",
     "iopub.status.busy": "2022-07-29T21:59:49.496049Z",
     "iopub.status.idle": "2022-07-29T21:59:49.506358Z",
     "shell.execute_reply": "2022-07-29T21:59:49.504867Z"
    },
    "papermill": {
     "duration": 0.020079,
     "end_time": "2022-07-29T21:59:49.508890",
     "exception": false,
     "start_time": "2022-07-29T21:59:49.488811",
     "status": "completed"
    },
    "tags": []
   },
   "outputs": [],
   "source": [
    "X_train, X_test, y_train, y_test= train_test_split(cancer_df.data, cancer_df.target, random_state=33)"
   ]
  },
  {
   "cell_type": "code",
   "execution_count": 4,
   "id": "c33309b0",
   "metadata": {
    "execution": {
     "iopub.execute_input": "2022-07-29T21:59:49.522669Z",
     "iopub.status.busy": "2022-07-29T21:59:49.522236Z",
     "iopub.status.idle": "2022-07-29T21:59:49.527711Z",
     "shell.execute_reply": "2022-07-29T21:59:49.526521Z"
    },
    "papermill": {
     "duration": 0.015154,
     "end_time": "2022-07-29T21:59:49.529999",
     "exception": false,
     "start_time": "2022-07-29T21:59:49.514845",
     "status": "completed"
    },
    "tags": []
   },
   "outputs": [],
   "source": [
    "log_reg=LogisticRegression()"
   ]
  },
  {
   "cell_type": "code",
   "execution_count": 5,
   "id": "81cfac82",
   "metadata": {
    "execution": {
     "iopub.execute_input": "2022-07-29T21:59:49.543369Z",
     "iopub.status.busy": "2022-07-29T21:59:49.543011Z",
     "iopub.status.idle": "2022-07-29T21:59:49.640074Z",
     "shell.execute_reply": "2022-07-29T21:59:49.638484Z"
    },
    "papermill": {
     "duration": 0.10786,
     "end_time": "2022-07-29T21:59:49.643624",
     "exception": false,
     "start_time": "2022-07-29T21:59:49.535764",
     "status": "completed"
    },
    "tags": []
   },
   "outputs": [
    {
     "name": "stderr",
     "output_type": "stream",
     "text": [
      "/opt/conda/lib/python3.7/site-packages/sklearn/linear_model/_logistic.py:818: ConvergenceWarning: lbfgs failed to converge (status=1):\n",
      "STOP: TOTAL NO. of ITERATIONS REACHED LIMIT.\n",
      "\n",
      "Increase the number of iterations (max_iter) or scale the data as shown in:\n",
      "    https://scikit-learn.org/stable/modules/preprocessing.html\n",
      "Please also refer to the documentation for alternative solver options:\n",
      "    https://scikit-learn.org/stable/modules/linear_model.html#logistic-regression\n",
      "  extra_warning_msg=_LOGISTIC_SOLVER_CONVERGENCE_MSG,\n"
     ]
    },
    {
     "data": {
      "text/plain": [
       "LogisticRegression()"
      ]
     },
     "execution_count": 5,
     "metadata": {},
     "output_type": "execute_result"
    }
   ],
   "source": [
    "log_reg.fit(X_train,y_train)"
   ]
  },
  {
   "cell_type": "markdown",
   "id": "66ec1828",
   "metadata": {
    "papermill": {
     "duration": 0.01033,
     "end_time": "2022-07-29T21:59:49.664829",
     "exception": false,
     "start_time": "2022-07-29T21:59:49.654499",
     "status": "completed"
    },
    "tags": []
   },
   "source": [
    "# Model Evaluation"
   ]
  },
  {
   "cell_type": "code",
   "execution_count": 6,
   "id": "2c845c06",
   "metadata": {
    "execution": {
     "iopub.execute_input": "2022-07-29T21:59:49.689430Z",
     "iopub.status.busy": "2022-07-29T21:59:49.688800Z",
     "iopub.status.idle": "2022-07-29T21:59:49.705210Z",
     "shell.execute_reply": "2022-07-29T21:59:49.703730Z"
    },
    "papermill": {
     "duration": 0.033085,
     "end_time": "2022-07-29T21:59:49.709261",
     "exception": false,
     "start_time": "2022-07-29T21:59:49.676176",
     "status": "completed"
    },
    "tags": []
   },
   "outputs": [
    {
     "data": {
      "text/plain": [
       "0.960093896713615"
      ]
     },
     "execution_count": 6,
     "metadata": {},
     "output_type": "execute_result"
    }
   ],
   "source": [
    "log_reg.score(X_train,y_train)"
   ]
  },
  {
   "cell_type": "code",
   "execution_count": 7,
   "id": "a06c72fd",
   "metadata": {
    "execution": {
     "iopub.execute_input": "2022-07-29T21:59:49.732945Z",
     "iopub.status.busy": "2022-07-29T21:59:49.732366Z",
     "iopub.status.idle": "2022-07-29T21:59:49.743793Z",
     "shell.execute_reply": "2022-07-29T21:59:49.742437Z"
    },
    "papermill": {
     "duration": 0.027394,
     "end_time": "2022-07-29T21:59:49.747292",
     "exception": false,
     "start_time": "2022-07-29T21:59:49.719898",
     "status": "completed"
    },
    "tags": []
   },
   "outputs": [
    {
     "data": {
      "text/plain": [
       "0.958041958041958"
      ]
     },
     "execution_count": 7,
     "metadata": {},
     "output_type": "execute_result"
    }
   ],
   "source": [
    "log_reg.score(X_test,y_test)"
   ]
  },
  {
   "cell_type": "markdown",
   "id": "bfe2dd2f",
   "metadata": {
    "papermill": {
     "duration": 0.010537,
     "end_time": "2022-07-29T21:59:49.768565",
     "exception": false,
     "start_time": "2022-07-29T21:59:49.758028",
     "status": "completed"
    },
    "tags": []
   },
   "source": [
    "# Regularization"
   ]
  },
  {
   "cell_type": "code",
   "execution_count": 8,
   "id": "4dc94173",
   "metadata": {
    "execution": {
     "iopub.execute_input": "2022-07-29T21:59:49.792838Z",
     "iopub.status.busy": "2022-07-29T21:59:49.792129Z",
     "iopub.status.idle": "2022-07-29T21:59:49.799136Z",
     "shell.execute_reply": "2022-07-29T21:59:49.797834Z"
    },
    "papermill": {
     "duration": 0.022851,
     "end_time": "2022-07-29T21:59:49.802296",
     "exception": false,
     "start_time": "2022-07-29T21:59:49.779445",
     "status": "completed"
    },
    "tags": []
   },
   "outputs": [],
   "source": [
    "log_reg2= LogisticRegression(C=321)"
   ]
  },
  {
   "cell_type": "code",
   "execution_count": 9,
   "id": "145331d9",
   "metadata": {
    "execution": {
     "iopub.execute_input": "2022-07-29T21:59:49.822461Z",
     "iopub.status.busy": "2022-07-29T21:59:49.821992Z",
     "iopub.status.idle": "2022-07-29T21:59:49.884633Z",
     "shell.execute_reply": "2022-07-29T21:59:49.883246Z"
    },
    "papermill": {
     "duration": 0.07772,
     "end_time": "2022-07-29T21:59:49.891284",
     "exception": false,
     "start_time": "2022-07-29T21:59:49.813564",
     "status": "completed"
    },
    "tags": []
   },
   "outputs": [
    {
     "name": "stderr",
     "output_type": "stream",
     "text": [
      "/opt/conda/lib/python3.7/site-packages/sklearn/linear_model/_logistic.py:818: ConvergenceWarning: lbfgs failed to converge (status=1):\n",
      "STOP: TOTAL NO. of ITERATIONS REACHED LIMIT.\n",
      "\n",
      "Increase the number of iterations (max_iter) or scale the data as shown in:\n",
      "    https://scikit-learn.org/stable/modules/preprocessing.html\n",
      "Please also refer to the documentation for alternative solver options:\n",
      "    https://scikit-learn.org/stable/modules/linear_model.html#logistic-regression\n",
      "  extra_warning_msg=_LOGISTIC_SOLVER_CONVERGENCE_MSG,\n"
     ]
    },
    {
     "data": {
      "text/plain": [
       "LogisticRegression(C=321)"
      ]
     },
     "execution_count": 9,
     "metadata": {},
     "output_type": "execute_result"
    }
   ],
   "source": [
    "log_reg2.fit(X_train,y_train)"
   ]
  },
  {
   "cell_type": "code",
   "execution_count": 10,
   "id": "c4b66d0a",
   "metadata": {
    "execution": {
     "iopub.execute_input": "2022-07-29T21:59:49.917874Z",
     "iopub.status.busy": "2022-07-29T21:59:49.917053Z",
     "iopub.status.idle": "2022-07-29T21:59:49.936245Z",
     "shell.execute_reply": "2022-07-29T21:59:49.934814Z"
    },
    "papermill": {
     "duration": 0.036943,
     "end_time": "2022-07-29T21:59:49.940482",
     "exception": false,
     "start_time": "2022-07-29T21:59:49.903539",
     "status": "completed"
    },
    "tags": []
   },
   "outputs": [
    {
     "data": {
      "text/plain": [
       "0.9553990610328639"
      ]
     },
     "execution_count": 10,
     "metadata": {},
     "output_type": "execute_result"
    }
   ],
   "source": [
    "log_reg2.score(X_train,y_train)"
   ]
  },
  {
   "cell_type": "code",
   "execution_count": 11,
   "id": "35d7a9dc",
   "metadata": {
    "execution": {
     "iopub.execute_input": "2022-07-29T21:59:49.967010Z",
     "iopub.status.busy": "2022-07-29T21:59:49.966332Z",
     "iopub.status.idle": "2022-07-29T21:59:49.973354Z",
     "shell.execute_reply": "2022-07-29T21:59:49.971963Z"
    },
    "papermill": {
     "duration": 0.027257,
     "end_time": "2022-07-29T21:59:49.980130",
     "exception": false,
     "start_time": "2022-07-29T21:59:49.952873",
     "status": "completed"
    },
    "tags": []
   },
   "outputs": [],
   "source": [
    "log_reg3=LogisticRegression(C=0.001)"
   ]
  },
  {
   "cell_type": "code",
   "execution_count": 12,
   "id": "b93d9918",
   "metadata": {
    "execution": {
     "iopub.execute_input": "2022-07-29T21:59:50.007140Z",
     "iopub.status.busy": "2022-07-29T21:59:50.006447Z",
     "iopub.status.idle": "2022-07-29T21:59:50.077349Z",
     "shell.execute_reply": "2022-07-29T21:59:50.075909Z"
    },
    "papermill": {
     "duration": 0.089783,
     "end_time": "2022-07-29T21:59:50.081643",
     "exception": false,
     "start_time": "2022-07-29T21:59:49.991860",
     "status": "completed"
    },
    "tags": []
   },
   "outputs": [
    {
     "name": "stderr",
     "output_type": "stream",
     "text": [
      "/opt/conda/lib/python3.7/site-packages/sklearn/linear_model/_logistic.py:818: ConvergenceWarning: lbfgs failed to converge (status=1):\n",
      "STOP: TOTAL NO. of ITERATIONS REACHED LIMIT.\n",
      "\n",
      "Increase the number of iterations (max_iter) or scale the data as shown in:\n",
      "    https://scikit-learn.org/stable/modules/preprocessing.html\n",
      "Please also refer to the documentation for alternative solver options:\n",
      "    https://scikit-learn.org/stable/modules/linear_model.html#logistic-regression\n",
      "  extra_warning_msg=_LOGISTIC_SOLVER_CONVERGENCE_MSG,\n"
     ]
    },
    {
     "data": {
      "text/plain": [
       "LogisticRegression(C=0.001)"
      ]
     },
     "execution_count": 12,
     "metadata": {},
     "output_type": "execute_result"
    }
   ],
   "source": [
    "log_reg3.fit(X_train,y_train)"
   ]
  },
  {
   "cell_type": "code",
   "execution_count": 13,
   "id": "59805425",
   "metadata": {
    "execution": {
     "iopub.execute_input": "2022-07-29T21:59:50.110924Z",
     "iopub.status.busy": "2022-07-29T21:59:50.110197Z",
     "iopub.status.idle": "2022-07-29T21:59:50.124070Z",
     "shell.execute_reply": "2022-07-29T21:59:50.122939Z"
    },
    "papermill": {
     "duration": 0.031282,
     "end_time": "2022-07-29T21:59:50.127270",
     "exception": false,
     "start_time": "2022-07-29T21:59:50.095988",
     "status": "completed"
    },
    "tags": []
   },
   "outputs": [
    {
     "data": {
      "text/plain": [
       "0.9389671361502347"
      ]
     },
     "execution_count": 13,
     "metadata": {},
     "output_type": "execute_result"
    }
   ],
   "source": [
    "log_reg3.score(X_train,y_train)"
   ]
  },
  {
   "cell_type": "code",
   "execution_count": 14,
   "id": "c996e03d",
   "metadata": {
    "execution": {
     "iopub.execute_input": "2022-07-29T21:59:50.155730Z",
     "iopub.status.busy": "2022-07-29T21:59:50.155020Z",
     "iopub.status.idle": "2022-07-29T21:59:50.166190Z",
     "shell.execute_reply": "2022-07-29T21:59:50.164979Z"
    },
    "papermill": {
     "duration": 0.030223,
     "end_time": "2022-07-29T21:59:50.169785",
     "exception": false,
     "start_time": "2022-07-29T21:59:50.139562",
     "status": "completed"
    },
    "tags": []
   },
   "outputs": [
    {
     "data": {
      "text/plain": [
       "0.951048951048951"
      ]
     },
     "execution_count": 14,
     "metadata": {},
     "output_type": "execute_result"
    }
   ],
   "source": [
    "log_reg3.score(X_test,y_test)"
   ]
  },
  {
   "cell_type": "code",
   "execution_count": null,
   "id": "0b9e138e",
   "metadata": {
    "papermill": {
     "duration": 0.012283,
     "end_time": "2022-07-29T21:59:50.194689",
     "exception": false,
     "start_time": "2022-07-29T21:59:50.182406",
     "status": "completed"
    },
    "tags": []
   },
   "outputs": [],
   "source": []
  }
 ],
 "metadata": {
  "kernelspec": {
   "display_name": "Python 3",
   "language": "python",
   "name": "python3"
  },
  "language_info": {
   "codemirror_mode": {
    "name": "ipython",
    "version": 3
   },
   "file_extension": ".py",
   "mimetype": "text/x-python",
   "name": "python",
   "nbconvert_exporter": "python",
   "pygments_lexer": "ipython3",
   "version": "3.7.12"
  },
  "papermill": {
   "default_parameters": {},
   "duration": 13.743511,
   "end_time": "2022-07-29T21:59:51.133166",
   "environment_variables": {},
   "exception": null,
   "input_path": "__notebook__.ipynb",
   "output_path": "__notebook__.ipynb",
   "parameters": {},
   "start_time": "2022-07-29T21:59:37.389655",
   "version": "2.3.4"
  }
 },
 "nbformat": 4,
 "nbformat_minor": 5
}
